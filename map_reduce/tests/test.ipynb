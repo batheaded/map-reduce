{
 "cells": [
  {
   "cell_type": "code",
   "execution_count": 1,
   "metadata": {},
   "outputs": [],
   "source": [
    "import Pyro4"
   ]
  },
  {
   "cell_type": "code",
   "execution_count": 7,
   "metadata": {},
   "outputs": [
    {
     "name": "stdout",
     "output_type": "stream",
     "text": [
      "PYRO:chord.dht@172.18.0.3:8008\n",
      "PYRO:chord.dht@172.18.0.4:8008\n",
      "PYRO:chord.dht@172.18.0.2:8008\n",
      "PYRO:chord.dht@172.18.0.5:8008\n",
      "PYRO:chord.dht@172.18.0.6:8008\n"
     ]
    }
   ],
   "source": [
    "with Pyro4.Proxy('PYRO:chord.dht@172.18.0.3:8008') as dht:\n",
    "    print( *dht.debug_get_ring_topology()[0], sep='\\n' )"
   ]
  }
 ],
 "metadata": {
  "kernelspec": {
   "display_name": "Python 3.9.7 ('base')",
   "language": "python",
   "name": "python3"
  },
  "language_info": {
   "codemirror_mode": {
    "name": "ipython",
    "version": 3
   },
   "file_extension": ".py",
   "mimetype": "text/x-python",
   "name": "python",
   "nbconvert_exporter": "python",
   "pygments_lexer": "ipython3",
   "version": "3.9.7"
  },
  "orig_nbformat": 4,
  "vscode": {
   "interpreter": {
    "hash": "62900ff36d08434e5ec8540c73cb4a20356b0518e27bdb5139ad40e1febc7464"
   }
  }
 },
 "nbformat": 4,
 "nbformat_minor": 2
}
