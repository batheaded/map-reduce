{
 "cells": [
  {
   "cell_type": "code",
   "execution_count": 1,
   "metadata": {},
   "outputs": [],
   "source": [
    "import Pyro4"
   ]
  },
  {
   "cell_type": "code",
   "execution_count": 7,
   "metadata": {},
   "outputs": [
    {
     "name": "stdout",
     "output_type": "stream",
     "text": [
      "PYRO:chord.dht@172.18.0.3:8008\n",
      "PYRO:chord.dht@172.18.0.4:8008\n",
      "PYRO:chord.dht@172.18.0.2:8008\n",
      "PYRO:chord.dht@172.18.0.5:8008\n",
      "PYRO:chord.dht@172.18.0.6:8008\n"
     ]
    }
   ],
   "source": [
    "with Pyro4.Proxy('PYRO:chord.dht@172.18.0.3:8008') as dht:\n",
    "    print( *dht.debug_get_ring_topology()[0], sep='\\n' )"
   ]
  }
 ],
 "metadata": {
  "kernelspec": {
   "display_name": "Python 3.9.12 ('dev')",
   "language": "python",
   "name": "python3"
  },
  "language_info": {
   "codemirror_mode": {
    "name": "ipython",
    "version": 3
   },
   "file_extension": ".py",
   "mimetype": "text/x-python",
   "name": "python",
   "nbconvert_exporter": "python",
   "pygments_lexer": "ipython3",
   "version": "3.9.12"
  },
  "orig_nbformat": 4,
  "vscode": {
   "interpreter": {
    "hash": "0829aa88c50d1b42348ba3b1d76fcd8f233bffc522ed808e64a51ebd0c1b4b71"
   }
  }
 },
 "nbformat": 4,
 "nbformat_minor": 2
}
